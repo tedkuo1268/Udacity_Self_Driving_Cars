{
 "cells": [
  {
   "cell_type": "markdown",
   "metadata": {},
   "source": [
    "# Self-Driving Car Engineer Nanodegree\n",
    "\n",
    "## Deep Learning\n",
    "\n",
    "## Project: Build a Traffic Sign Recognition Classifier\n",
    "\n",
    "In this notebook, a template is provided for you to implement your functionality in stages, which is required to successfully complete this project. If additional code is required that cannot be included in the notebook, be sure that the Python code is successfully imported and included in your submission if necessary. \n",
    "\n",
    "> **Note**: Once you have completed all of the code implementations, you need to finalize your work by exporting the iPython Notebook as an HTML document. Before exporting the notebook to html, all of the code cells need to have been run so that reviewers can see the final implementation and output. You can then export the notebook by using the menu above and navigating to  \\n\",\n",
    "    \"**File -> Download as -> HTML (.html)**. Include the finished document along with this notebook as your submission. \n",
    "\n",
    "In addition to implementing code, there is a writeup to complete. The writeup should be completed in a separate file, which can be either a markdown file or a pdf document. There is a [write up template](https://github.com/udacity/CarND-Traffic-Sign-Classifier-Project/blob/master/writeup_template.md) that can be used to guide the writing process. Completing the code template and writeup template will cover all of the [rubric points](https://review.udacity.com/#!/rubrics/481/view) for this project.\n",
    "\n",
    "The [rubric](https://review.udacity.com/#!/rubrics/481/view) contains \"Stand Out Suggestions\" for enhancing the project beyond the minimum requirements. The stand out suggestions are optional. If you decide to pursue the \"stand out suggestions\", you can include the code in this Ipython notebook and also discuss the results in the writeup file.\n",
    "\n",
    "\n",
    ">**Note:** Code and Markdown cells can be executed using the **Shift + Enter** keyboard shortcut. In addition, Markdown cells can be edited by typically double-clicking the cell to enter edit mode."
   ]
  },
  {
   "cell_type": "code",
   "execution_count": 1,
   "metadata": {},
   "outputs": [],
   "source": [
    "#from __future__ import division, print_function, absolute_import\n",
    "import tensorflow as tf\n",
    "from sklearn.utils import shuffle\n",
    "from tensorflow.contrib.layers import flatten\n",
    "import numpy as np\n",
    "import matplotlib.pyplot as plt\n",
    "import matplotlib.image as mpimg\n",
    "import pickle\n",
    "import cv2\n",
    "import os\n",
    "import glob\n",
    "\n",
    "# Visualizations will be shown in the notebook.\n",
    "%matplotlib inline"
   ]
  },
  {
   "cell_type": "markdown",
   "metadata": {},
   "source": [
    "---\n",
    "## Step 0: Load The Data"
   ]
  },
  {
   "cell_type": "code",
   "execution_count": 2,
   "metadata": {},
   "outputs": [],
   "source": [
    "training_file = '../data/train.p'\n",
    "validation_file= '../data/valid.p'\n",
    "testing_file = '../data/test.p'\n",
    "\n",
    "with open(training_file, mode='rb') as f:\n",
    "    train = pickle.load(f)\n",
    "with open(validation_file, mode='rb') as f:\n",
    "    valid = pickle.load(f)\n",
    "with open(testing_file, mode='rb') as f:\n",
    "    test = pickle.load(f)\n",
    "    \n",
    "X_train, y_train = train['features'], train['labels']\n",
    "X_valid, y_valid = valid['features'], valid['labels']\n",
    "X_test, y_test = test['features'], test['labels']\n",
    "sizes = train['sizes']\n",
    "coords = train['coords']"
   ]
  },
  {
   "cell_type": "markdown",
   "metadata": {},
   "source": [
    "---\n",
    "\n",
    "## Step 1: Dataset Summary & Exploration\n",
    "\n",
    "The pickled data is a dictionary with 4 key/value pairs:\n",
    "\n",
    "- `'features'` is a 4D array containing raw pixel data of the traffic sign images, (num examples, width, height, channels).\n",
    "- `'labels'` is a 1D array containing the label/class id of the traffic sign. The file `signnames.csv` contains id -> name mappings for each id.\n",
    "- `'sizes'` is a list containing tuples, (width, height) representing the original width and height the image.\n",
    "- `'coords'` is a list containing tuples, (x1, y1, x2, y2) representing coordinates of a bounding box around the sign in the image. **THESE COORDINATES ASSUME THE ORIGINAL IMAGE. THE PICKLED DATA CONTAINS RESIZED VERSIONS (32 by 32) OF THESE IMAGES**\n",
    "\n",
    "Complete the basic data summary below. Use python, numpy and/or pandas methods to calculate the data summary rather than hard coding the results. For example, the [pandas shape method](http://pandas.pydata.org/pandas-docs/stable/generated/pandas.DataFrame.shape.html) might be useful for calculating some of the summary results. "
   ]
  },
  {
   "cell_type": "markdown",
   "metadata": {},
   "source": [
    "### Provide a Basic Summary of the Data Set Using Python, Numpy and/or Pandas"
   ]
  },
  {
   "cell_type": "code",
   "execution_count": 3,
   "metadata": {},
   "outputs": [
    {
     "name": "stdout",
     "output_type": "stream",
     "text": [
      "Number of training examples = 34799\n",
      "Number of validation examples = 4410\n",
      "Number of testing examples = 12630\n",
      "Image data shape = (32, 32, 3)\n",
      "Number of classes = 43\n"
     ]
    }
   ],
   "source": [
    "# TODO: Number of training examples\n",
    "n_train = X_train.shape[0]\n",
    "\n",
    "# TODO: Number of validation examples\n",
    "n_validation = X_valid.shape[0]\n",
    "\n",
    "# TODO: Number of testing examples.\n",
    "n_test = X_test.shape[0]\n",
    "\n",
    "# TODO: What's the shape of an traffic sign image?\n",
    "image_shape = X_train[0].shape\n",
    "\n",
    "# TODO: How many unique classes/labels there are in the dataset.\n",
    "n_classes = np.unique(y_train).shape[0]\n",
    "\n",
    "print(\"Number of training examples =\", n_train)\n",
    "print(\"Number of validation examples =\", n_validation)\n",
    "print(\"Number of testing examples =\", n_test)\n",
    "print(\"Image data shape =\", image_shape)\n",
    "print(\"Number of classes =\", n_classes)"
   ]
  },
  {
   "cell_type": "markdown",
   "metadata": {},
   "source": [
    "### Include an exploratory visualization of the dataset"
   ]
  },
  {
   "cell_type": "markdown",
   "metadata": {},
   "source": [
    "Visualize the German Traffic Signs Dataset using the pickled file(s). This is open ended, suggestions include: plotting traffic sign images, plotting the count of each sign, etc. \n",
    "\n",
    "The [Matplotlib](http://matplotlib.org/) [examples](http://matplotlib.org/examples/index.html) and [gallery](http://matplotlib.org/gallery.html) pages are a great resource for doing visualizations in Python.\n",
    "\n",
    "**NOTE:** It's recommended you start with something simple first. If you wish to do more, come back to it after you've completed the rest of the sections. It can be interesting to look at the distribution of classes in the training, validation and test set. Is the distribution the same? Are there more examples of some classes than others?"
   ]
  },
  {
   "cell_type": "code",
   "execution_count": 4,
   "metadata": {},
   "outputs": [
    {
     "name": "stdout",
     "output_type": "stream",
     "text": [
      "Class labels:\n",
      "0 :  Speed limit (20km/h)\n",
      "1 :  Speed limit (30km/h)\n",
      "2 :  Speed limit (50km/h)\n",
      "3 :  Speed limit (60km/h)\n",
      "4 :  Speed limit (70km/h)\n",
      "5 :  Speed limit (80km/h)\n",
      "6 :  End of speed limit (80km/h)\n",
      "7 :  Speed limit (100km/h)\n",
      "8 :  Speed limit (120km/h)\n",
      "9 :  No passing\n",
      "10 :  No passing for vehicles over 3.5 metric tons\n",
      "11 :  Right-of-way at the next intersection\n",
      "12 :  Priority road\n",
      "13 :  Yield\n",
      "14 :  Stop\n",
      "15 :  No vehicles\n",
      "16 :  Vehicles over 3.5 metric tons prohibited\n",
      "17 :  No entry\n",
      "18 :  General caution\n",
      "19 :  Dangerous curve to the left\n",
      "20 :  Dangerous curve to the right\n",
      "21 :  Double curve\n",
      "22 :  Bumpy road\n",
      "23 :  Slippery road\n",
      "24 :  Road narrows on the right\n",
      "25 :  Road work\n",
      "26 :  Traffic signals\n",
      "27 :  Pedestrians\n",
      "28 :  Children crossing\n",
      "29 :  Bicycles crossing\n",
      "30 :  Beware of ice/snow\n",
      "31 :  Wild animals crossing\n",
      "32 :  End of all speed and passing limits\n",
      "33 :  Turn right ahead\n",
      "34 :  Turn left ahead\n",
      "35 :  Ahead only\n",
      "36 :  Go straight or right\n",
      "37 :  Go straight or left\n",
      "38 :  Keep right\n",
      "39 :  Keep left\n",
      "40 :  Roundabout mandatory\n",
      "41 :  End of no passing\n",
      "42 :  End of no passing by vehicles over 3.5 metric tons\n"
     ]
    },
    {
     "data": {
      "image/png": "[encoded data removed]",
      "text/plain": [
       "<matplotlib.figure.Figure at 0x7f83dd61a588>"
      ]
     },
     "metadata": {
      "needs_background": "light"
     },
     "output_type": "display_data"
    }
   ],
   "source": [
    "sign_csv = np.genfromtxt('signnames.csv', dtype=None, delimiter=',')\n",
    "sign_labels = sign_csv[1:,0]\n",
    "sign_names = sign_csv[1:,1]\n",
    "row, column = 5, 10\n",
    "fig, axs = plt.subplots(row, column)\n",
    "fig.suptitle('Random image in each class (43 classes totally)')\n",
    "for class_idx in range(row*column):\n",
    "    if class_idx < n_classes:\n",
    "        X_cur_class = X_train[y_train == class_idx]\n",
    "        X_class_rand_img = X_cur_class[np.random.randint(len(X_cur_class))]\n",
    "        axs[class_idx//column, class_idx%column].imshow(X_class_rand_img)\n",
    "        axs[class_idx//column, class_idx%column].set_title(class_idx)\n",
    "        axs[class_idx//column, class_idx%column].axis('off')\n",
    "    else: axs[class_idx//column, class_idx%column].axis('off')\n",
    "\n",
    "print('Class labels:')\n",
    "for i in range(n_classes):\n",
    "    print(i, ': ', sign_names[i].decode('utf-8'))\n"
   ]
  },
  {
   "cell_type": "code",
   "execution_count": 5,
   "metadata": {},
   "outputs": [
    {
     "data": {
      "text/plain": [
       "<matplotlib.image.AxesImage at 0x7f83da3f58d0>"
      ]
     },
     "execution_count": 5,
     "metadata": {},
     "output_type": "execute_result"
    },
    {
     "data": {
      "image/png": "[encoded data removed]",
      "text/plain": [
       "<matplotlib.figure.Figure at 0x7f83dc9a58d0>"
      ]
     },
     "metadata": {
      "needs_background": "light"
     },
     "output_type": "display_data"
    }
   ],
   "source": [
    "X_cur_class = X_train[y_train == 29]\n",
    "X_class_rand_img = X_cur_class[np.random.randint(len(X_cur_class))]\n",
    "plt.imshow(X_class_rand_img)"
   ]
  },
  {
   "cell_type": "code",
   "execution_count": 6,
   "metadata": {},
   "outputs": [
    {
     "data": {
      "image/png": "[encoded data removed]",
      "text/plain": [
       "<matplotlib.figure.Figure at 0x7f83dc9cf0f0>"
      ]
     },
     "metadata": {
      "needs_background": "light"
     },
     "output_type": "display_data"
    }
   ],
   "source": [
    "data_numbers = []\n",
    "for class_idx in range(n_classes):\n",
    "    X_cur_class = X_train[y_train == class_idx]\n",
    "    for j in range(len(X_cur_class)):\n",
    "        data_numbers.append(class_idx)\n",
    "#print(data_numbers)\n",
    "\n",
    "plt.figure()\n",
    "n, bins, patches = plt.hist(data_numbers, 43)\n",
    "plt.xlabel('Class label')\n",
    "plt.ylabel('Frequency')\n",
    "plt.title('Traffic signs frequency graph')\n",
    "plt.xlim(0, 42)\n",
    "plt.ylim(0, 2500)\n",
    "plt.grid(True)\n",
    "plt.savefig('../images/data_hist.png')"
   ]
  },
  {
   "cell_type": "markdown",
   "metadata": {},
   "source": [
    "----\n",
    "\n",
    "## Step 2: Design and Test a Model Architecture\n",
    "\n",
    "Design and implement a deep learning model that learns to recognize traffic signs. Train and test your model on the [German Traffic Sign Dataset](http://benchmark.ini.rub.de/?section=gtsrb&subsection=dataset).\n",
    "\n",
    "The LeNet-5 implementation shown in the [classroom](https://classroom.udacity.com/nanodegrees/nd013/parts/fbf77062-5703-404e-b60c-95b78b2f3f9e/modules/6df7ae49-c61c-4bb2-a23e-6527e69209ec/lessons/601ae704-1035-4287-8b11-e2c2716217ad/concepts/d4aca031-508f-4e0b-b493-e7b706120f81) at the end of the CNN lesson is a solid starting point. You'll have to change the number of classes and possibly the preprocessing, but aside from that it's plug and play! \n",
    "\n",
    "With the LeNet-5 solution from the lecture, you should expect a validation set accuracy of about 0.89. To meet specifications, the validation set accuracy will need to be at least 0.93. It is possible to get an even higher accuracy, but 0.93 is the minimum for a successful project submission. \n",
    "\n",
    "There are various aspects to consider when thinking about this problem:\n",
    "\n",
    "- Neural network architecture (is the network over or underfitting?)\n",
    "- Play around preprocessing techniques (normalization, rgb to grayscale, etc)\n",
    "- Number of examples per label (some have more than others).\n",
    "- Generate fake data.\n",
    "\n",
    "Here is an example of a [published baseline model on this problem](http://yann.lecun.com/exdb/publis/pdf/sermanet-ijcnn-11.pdf). It's not required to be familiar with the approach used in the paper but, it's good practice to try to read papers like these."
   ]
  },
  {
   "cell_type": "markdown",
   "metadata": {},
   "source": [
    "### Data augmentation using deep convolutional generative adversarial networks (DCGANs) and data pre-processing\n",
    "\n",
    "From the histogram above, we can see that the German Traffic Sign Dataset is really imbalanced. Therefore, I implement DCGANs to generate fake training data for the minority classes (below 1000 examples)."
   ]
  },
  {
   "cell_type": "markdown",
   "metadata": {},
   "source": [
    "#### Find minority classes"
   ]
  },
  {
   "cell_type": "code",
   "execution_count": 7,
   "metadata": {},
   "outputs": [],
   "source": [
    "### Find minority classes (below 1000 examples) ###\n",
    "minority_X_train = {}\n",
    "for class_idx in range(n_classes):\n",
    "    X_cur_class = X_train[y_train == class_idx]\n",
    "    if (len(X_cur_class)) < 1000:\n",
    "        minority_X_train[class_idx] = X_cur_class"
   ]
  },
  {
   "cell_type": "markdown",
   "metadata": {},
   "source": [
    "#### Image normaization for DCGANs training"
   ]
  },
  {
   "cell_type": "code",
   "execution_count": 8,
   "metadata": {},
   "outputs": [],
   "source": [
    "### Image normalization ###\n",
    "def img_normalization(images):\n",
    "    \n",
    "    img = np.zeros((len(images),32,32,3))\n",
    "    i = 0\n",
    "    for image in images:\n",
    "        img[i,:,:,:] = np.float32(image)\n",
    "        # Normalize the image to the range of [-1, 1]\n",
    "        max_R = np.max(img[i,:,:,0])\n",
    "        max_G = np.max(img[i,:,:,1])\n",
    "        max_B = np.max(img[i,:,:,2])\n",
    "        img[i,:,:,0] /= max_R\n",
    "        img[i,:,:,1] /= max_G\n",
    "        img[i,:,:,2] /= max_B\n",
    "        img[i,:,:,0] = ((img[i,:,:,0]) - 0.5)/0.5\n",
    "        img[i,:,:,1] = ((img[i,:,:,1]) - 0.5)/0.5\n",
    "        img[i,:,:,2] = ((img[i,:,:,2]) - 0.5)/0.5\n",
    "\n",
    "        i += 1\n",
    "        \n",
    "    return img\n",
    "\n",
    "# Normalize the trainging image to the range of [-1, 1] for DCGANs training\n",
    "# Since the fake image output from the generator is within the range of [-1, 1], \n",
    "# we have to normalize the real image also to the range of [-1, 1]\n",
    "X_train_norm_GAN = {}\n",
    "for minority_class in minority_X_train:\n",
    "    X_train_norm_GAN[minority_class] = img_normalization(minority_X_train[minority_class])"
   ]
  },
  {
   "cell_type": "markdown",
   "metadata": {},
   "source": [
    "#### Define the training and network parameters for DCGAN"
   ]
  },
  {
   "cell_type": "code",
   "execution_count": 9,
   "metadata": {},
   "outputs": [],
   "source": [
    "# Training Parameters\n",
    "EPOCH = 300\n",
    "BATCH_SIZE = 16\n",
    "\n",
    "# Network Parameters\n",
    "noise_dim = 128 # Noise data points"
   ]
  },
  {
   "cell_type": "code",
   "execution_count": 10,
   "metadata": {},
   "outputs": [],
   "source": [
    "# Generator Network\n",
    "# Input: Noise (uniform distribution within [-1, 1]), Output: Fake image (within the range of [-1, 1])\n",
    "def generator(x, reuse=False):\n",
    "    with tf.variable_scope('Generator', reuse=reuse):\n",
    "        # TensorFlow Layers automatically create variables and calculate their\n",
    "        # shape, based on the input.\n",
    "        x = tf.layers.dense(x, units=8*8*256)\n",
    "        x = tf.nn.relu(x)\n",
    "        x = tf.nn.dropout(x, keep_prob)\n",
    "        \n",
    "        # Reshape to a 4-D array of images: (batch, height, width, channels)\n",
    "        # New shape: (batch, 8, 8, 256)\n",
    "        x = tf.reshape(x, shape=[-1, 8, 8, 256])\n",
    "        \n",
    "        # Deconvolution, image shape: (batch, 8, 8, 128)\n",
    "        x = tf.layers.conv2d_transpose(x, 128, 5, strides=1, padding='SAME')\n",
    "        x = tf.nn.relu(x)\n",
    "        x = tf.nn.dropout(x, keep_prob)\n",
    "        \n",
    "        # Deconvolution, image shape: (batch, 16, 16, 64)\n",
    "        x = tf.layers.conv2d_transpose(x, 64, 5, strides=2, padding='SAME')\n",
    "        x = tf.nn.relu(x)\n",
    "        x = tf.nn.dropout(x, keep_prob)\n",
    "        \n",
    "        # Deconvolution, image shape: (batch, 32, 32, 3)\n",
    "        x = tf.layers.conv2d_transpose(x, 3, 5, strides=2, padding='SAME')\n",
    "        \n",
    "        # Apply tanh to clip values between -1 and 1\n",
    "        x = tf.nn.tanh(x)\n",
    "        return x\n",
    "\n",
    "# Discriminator Network\n",
    "# Input: Image, Output: Prediction Real/Fake Image\n",
    "def discriminator(x, reuse=False):\n",
    "    with tf.variable_scope('Discriminator', reuse=reuse):\n",
    "        # Typical convolutional neural network to classify images.\n",
    "        x = tf.layers.conv2d(x, 64, 5, strides=2, padding='SAME')\n",
    "        x = tf.nn.relu(x)\n",
    "        x = tf.nn.dropout(x, keep_prob)\n",
    "        \n",
    "        x = tf.layers.conv2d(x, 128, 5, strides=2, padding='SAME')\n",
    "        x = tf.nn.relu(x)\n",
    "        x = tf.nn.dropout(x, keep_prob)\n",
    "        \n",
    "        x = tf.layers.conv2d(x, 256, 5, strides=2, padding='SAME')\n",
    "        x = tf.nn.relu(x)\n",
    "        x = tf.nn.dropout(x, keep_prob)\n",
    "        \n",
    "        x = flatten(x)\n",
    "        x = tf.nn.tanh(x)\n",
    "        # Output 2 classes: real and fake images\n",
    "        x = tf.layers.dense(x, 2)\n",
    "        \n",
    "    return x\n",
    "\n",
    "### Build networks ###\n",
    "# Network inputs\n",
    "noise_input = tf.placeholder(tf.float32, shape=[None, noise_dim])\n",
    "real_image_input = tf.placeholder(tf.float32, shape=[None, 32, 32, 3])\n",
    "keep_prob = tf.placeholder(tf.float32)\n",
    "\n",
    "# Build Generator Network\n",
    "gen_sample = generator(noise_input)\n",
    "\n",
    "# Build 2 Discriminator Networks (one from real image input, one from generated samples)\n",
    "disc_real = discriminator(real_image_input)\n",
    "disc_fake = discriminator(gen_sample, reuse=True)\n",
    "disc_concat = tf.concat([disc_real, disc_fake], axis=0)\n",
    "\n",
    "# Build the stacked generator/discriminator\n",
    "stacked_gan = discriminator(gen_sample, reuse=True)\n",
    "\n",
    "# Build Targets (real or fake images)\n",
    "disc_target = tf.placeholder(tf.int32, shape=[None])\n",
    "gen_target = tf.placeholder(tf.int32, shape=[None])\n",
    "\n",
    "# Build Loss\n",
    "disc_loss = tf.reduce_mean(tf.nn.sparse_softmax_cross_entropy_with_logits(\n",
    "    logits=disc_concat, labels=disc_target))\n",
    "gen_loss = tf.reduce_mean(tf.nn.sparse_softmax_cross_entropy_with_logits(\n",
    "    logits=stacked_gan, labels=gen_target))\n",
    "\n",
    "# Build Optimizers\n",
    "optimizer_gen = tf.train.AdamOptimizer(learning_rate=0.0002, beta1=0.5, beta2=0.999)\n",
    "optimizer_disc = tf.train.AdamOptimizer(learning_rate=0.0002, beta1=0.5, beta2=0.999)\n",
    "\n",
    "### Training Variables for each optimizer ###\n",
    "# Generator Network Variables\n",
    "gen_vars = tf.get_collection(tf.GraphKeys.TRAINABLE_VARIABLES, scope='Generator')\n",
    "# Discriminator Network Variables\n",
    "disc_vars = tf.get_collection(tf.GraphKeys.TRAINABLE_VARIABLES, scope='Discriminator')\n",
    "\n",
    "# Create training operations\n",
    "train_gen = optimizer_gen.minimize(gen_loss, var_list=gen_vars)\n",
    "train_disc = optimizer_disc.minimize(disc_loss, var_list=disc_vars)\n",
    "\n",
    "GAN_saver = tf.train.Saver(max_to_keep=len(X_train_norm_GAN))"
   ]
  },
  {
   "cell_type": "markdown",
   "metadata": {},
   "source": [
    "#### DCGAN training"
   ]
  },
  {
   "cell_type": "code",
   "execution_count": null,
   "metadata": {},
   "outputs": [],
   "source": [
    "# Initialize the variables (i.e. assign their default value)\n",
    "init = tf.global_variables_initializer()\n",
    "\n",
    "def GAN_train(X_train, class_idx):\n",
    "    print('training class' + str(class_idx) + '...')\n",
    "    num_examples = len(X_train)\n",
    "    \n",
    "    # Start training\n",
    "    with tf.Session() as sess:\n",
    "\n",
    "        # Run the initializer\n",
    "        sess.run(init)\n",
    "\n",
    "        for i in range(EPOCH):\n",
    "            X_train = shuffle(X_train)\n",
    "            for offset in range(0, num_examples, BATCH_SIZE):\n",
    "                batch_x = X_train[offset:offset+BATCH_SIZE]\n",
    "                batch_x_size = batch_x.shape[0]\n",
    "                \n",
    "                # Generate normal distribution for the input of generator\n",
    "                z = np.random.normal(0., 1., size=[batch_x_size, noise_dim])\n",
    "\n",
    "                # The first half of data fed to the discriminator are real images, thus targets are 1 (real image).\n",
    "                # The other half are fake images from the generator, thus targets are 0 (fake image).\n",
    "                batch_disc_y = np.concatenate(\n",
    "                    [np.ones([batch_x_size]), np.zeros([batch_x_size])], axis=0)\n",
    "                # Generator tries to fool the discriminator, thus targets are 1.\n",
    "                batch_gen_y = np.ones([batch_x_size])\n",
    "\n",
    "                # Training\n",
    "                feed_dict = {real_image_input: batch_x, noise_input: z,\n",
    "                             disc_target: batch_disc_y, gen_target: batch_gen_y,\n",
    "                             keep_prob: 0.8}\n",
    "                _, _, gl, dl = sess.run([train_gen, train_disc, gen_loss, disc_loss],\n",
    "                                        feed_dict=feed_dict)\n",
    "            #print(i)\n",
    "            #print('EPOCH %i: Generator Loss: %f, Discriminator Loss: %f' % (i + 1, gl, dl))\n",
    "            #if ((i + 1) % 10 == 0):\n",
    "            #print(i)\n",
    "        GAN_saver.save(sess, '../GANmodel/DCGAN_' + str(class_idx) +'.ckpt')\n",
    "            \n",
    "        print('Model Saved')\n",
    "        \n",
    "for minority_class in X_train_norm_GAN:\n",
    "    GAN_train(X_train_norm_GAN[minority_class], minority_class)"
   ]
  },
  {
   "cell_type": "markdown",
   "metadata": {},
   "source": [
    "#### Visualization of the fake data"
   ]
  },
  {
   "cell_type": "code",
   "execution_count": 11,
   "metadata": {},
   "outputs": [
    {
     "name": "stdout",
     "output_type": "stream",
     "text": [
      "INFO:tensorflow:Restoring parameters from ../GANmodel/DCGAN_0.ckpt\n",
      "INFO:tensorflow:Restoring parameters from ../GANmodel/DCGAN_6.ckpt\n",
      "INFO:tensorflow:Restoring parameters from ../GANmodel/DCGAN_14.ckpt\n",
      "INFO:tensorflow:Restoring parameters from ../GANmodel/DCGAN_30.ckpt\n",
      "INFO:tensorflow:Restoring parameters from ../GANmodel/DCGAN_37.ckpt\n"
     ]
    },
    {
     "data": {
      "image/png": "[encoded data removed]",
      "text/plain": [
       "<matplotlib.figure.Figure at 0x7f83d9b49400>"
      ]
     },
     "metadata": {
      "needs_background": "light"
     },
     "output_type": "display_data"
    },
    {
     "data": {
      "image/png": "[encoded data removed]",
      "text/plain": [
       "<matplotlib.figure.Figure at 0x7f83cc48fc50>"
      ]
     },
     "metadata": {
      "needs_background": "light"
     },
     "output_type": "display_data"
    },
    {
     "data": {
      "image/png": "[encoded data removed]",
      "text/plain": [
       "<matplotlib.figure.Figure at 0x7f83cc3d4668>"
      ]
     },
     "metadata": {
      "needs_background": "light"
     },
     "output_type": "display_data"
    },
    {
     "data": {
      "image/png": "[encoded data removed]",
      "text/plain": [
       "<matplotlib.figure.Figure at 0x7f83cc47c0b8>"
      ]
     },
     "metadata": {
      "needs_background": "light"
     },
     "output_type": "display_data"
    },
    {
     "data": {
      "image/png": "[encoded data removed]",
      "text/plain": [
       "<matplotlib.figure.Figure at 0x7f83cc3cb400>"
      ]
     },
     "metadata": {
      "needs_background": "light"
     },
     "output_type": "display_data"
    }
   ],
   "source": [
    "# testing the GAN model\n",
    "def GAN_visualization(class_idx):\n",
    "\n",
    "    with tf.Session() as sess:\n",
    "\n",
    "        # restore saved session with highest validation accuracy\n",
    "        GAN_saver.restore(sess, '../GANmodel/DCGAN_' + str(class_idx) + '.ckpt')\n",
    "        z = np.random.normal(0., 1., size=[1,noise_dim])\n",
    "        g = sess.run(gen_sample, feed_dict={noise_input: z, keep_prob: 0.9})\n",
    "        yuv_img = cv2.cvtColor(g[0], cv2.COLOR_RGB2YUV)\n",
    "        g = (g/2 + 0.5)\n",
    "        \n",
    "        #yuv_img_pre = preprocess_image_YUV(g)\n",
    "        #print(yuv_img_pre)\n",
    "        #plt.figure()\n",
    "        #plt.imshow(yuv_img_pre[0,:,:,0], cmap='gray')\n",
    "        #plt.figure()\n",
    "        \n",
    "        #plt.imshow(yuv_img[:,:,0], cmap='gray')\n",
    "        \n",
    "        plt.figure()\n",
    "        plt.imshow(g[0])\n",
    "        mpimg.imsave('../images/DCGAN_fake_image' + str(class_idx) + '.jpg', g[0])\n",
    "        #print(g[0])\n",
    "\n",
    "GAN_visualization(0)\n",
    "GAN_visualization(6)\n",
    "GAN_visualization(14)\n",
    "GAN_visualization(30)\n",
    "GAN_visualization(37)\n",
    "#for class_idx in minority_X_train:\n",
    "#    GAN_visualization(class_idx)"
   ]
  },
  {
   "cell_type": "markdown",
   "metadata": {},
   "source": [
    "#### Adding fake images to the train set"
   ]
  },
  {
   "cell_type": "code",
   "execution_count": 12,
   "metadata": {},
   "outputs": [],
   "source": [
    "# Normalize the training set to the range of [-1, 1] before adding fake data \n",
    "# so that all the traing dataset will be in the same range. Also do this to validation and test datasets.\n",
    "X_train_norm = img_normalization(X_train)\n",
    "X_valid_norm = img_normalization(X_valid)\n",
    "X_test_norm = img_normalization(X_test)"
   ]
  },
  {
   "cell_type": "code",
   "execution_count": null,
   "metadata": {},
   "outputs": [],
   "source": [
    "### Generate fake data to the training dataset ###\n",
    "def augment_fake_data(X_data, y_data, class_idx, num_of_fake_data):\n",
    "    with tf.Session() as sess:\n",
    "\n",
    "        # restore saved session with highest validation accuracy\n",
    "        GAN_saver.restore(sess, '../GANmodel/DCGAN_' + str(class_idx) +'.ckpt')\n",
    "        for i in range(num_of_fake_data):\n",
    "            #var = np.random.uniform(0.2, 1.8)\n",
    "            z = np.random.normal(0., 1., size=[1,noise_dim])\n",
    "            fake_data = sess.run(gen_sample, feed_dict={noise_input: z, keep_prob: 0.9})\n",
    "            X_data = np.append(X_data, fake_data, axis=0)\n",
    "            y_data = np.append(y_data, class_idx)\n",
    "            \n",
    "    return X_data, y_data\n",
    "\n",
    "X_train_aug = X_train_norm\n",
    "y_train_aug = y_train\n",
    "print('Number of original train examples = ' + str(X_train_aug.shape[0]))\n",
    "# Adding fake data\n",
    "for minority_class in minority_X_train:\n",
    "    num_of_fake_data = 1000 - len(minority_X_train[minority_class])\n",
    "    print('Number of augmented images for class' + str(minority_class) + ' is ' + str(num_of_fake_data))\n",
    "    X_train_aug, y_train_aug = augment_fake_data(X_train_aug, y_train_aug, minority_class, num_of_fake_data)\n",
    "    \n",
    "print('Number of augmented train examples = ' + str(X_train_aug.shape[0]))\n",
    "np.save(\"../augmented_train_set/augmented_train_set_X.npy\", X_train_aug)\n",
    "np.save(\"../augmented_train_set/augmented_train_set_y.npy\", y_train_aug)"
   ]
  },
  {
   "cell_type": "code",
   "execution_count": 27,
   "metadata": {},
   "outputs": [
    {
     "name": "stdout",
     "output_type": "stream",
     "text": [
      "(51690, 32, 32, 3)\n"
     ]
    }
   ],
   "source": [
    "# Reload the augmented data\n",
    "X_train_aug = np.load(\"../augmented_train_set/augmented_train_set_X.npy\")\n",
    "y_train_aug = np.load(\"../augmented_train_set/augmented_train_set_y.npy\")\n",
    "print(X_train_aug.shape)"
   ]
  },
  {
   "cell_type": "markdown",
   "metadata": {},
   "source": [
    "#### Data pre-processing"
   ]
  },
  {
   "cell_type": "code",
   "execution_count": 28,
   "metadata": {},
   "outputs": [],
   "source": [
    "def preprocess_image_YUV(images):\n",
    "    \"\"\"\n",
    "    Convert the images from RGB to YUV color space\n",
    "    Adjust image to have larger contrast\n",
    "    Normalize and standardize the data to have zero mean and unit variance in each channel\n",
    "    \"\"\"\n",
    "    \n",
    "    # Convert images to range of 0-255 (cv2.equalizeHist works with this range)\n",
    "    images = (images/2 + 0.5)*255\n",
    "    images = np.uint8(images)\n",
    "    \n",
    "    # convert images from RGB to YUV color space\n",
    "    y_images = np.array([np.expand_dims(cv2.cvtColor(image, cv2.COLOR_RGB2YUV)[:, :, 0], 2) for image in images])\n",
    "\n",
    "    # adjust image contrast\n",
    "    y_images = np.array([np.expand_dims(cv2.equalizeHist(np.uint8(image)), 2) for image in y_images])\n",
    "    \n",
    "    y_images = np.float32(y_images)\n",
    "    # Standardization\n",
    "    if (len(y_images) == 1):\n",
    "        y_images -= np.mean(y_images)\n",
    "        y_images /= np.std(y_images)\n",
    "    else:\n",
    "        y_images -= np.mean(y_images, axis=0)\n",
    "        y_images /= np.std(y_images, axis=0)\n",
    "\n",
    "    return y_images"
   ]
  },
  {
   "cell_type": "code",
   "execution_count": 29,
   "metadata": {},
   "outputs": [],
   "source": [
    "# Pre-process the augmented training dataset as well as the validation and test datasets\n",
    "# For the training set, I use the augmented one.\n",
    "X_train_norm_Y = preprocess_image_YUV(X_train_aug)\n",
    "#X_train_norm_Y = preprocess_image_YUV(X_train_norm)\n",
    "X_valid_norm_Y = preprocess_image_YUV(X_valid_norm)\n",
    "X_test_norm_Y = preprocess_image_YUV(X_test_norm)"
   ]
  },
  {
   "cell_type": "markdown",
   "metadata": {},
   "source": [
    "#### Visualization of preprocessed data"
   ]
  },
  {
   "cell_type": "code",
   "execution_count": 26,
   "metadata": {},
   "outputs": [
    {
     "data": {
      "image/png": "[encoded data removed]",
      "text/plain": [
       "<matplotlib.figure.Figure at 0x7f83c09a19e8>"
      ]
     },
     "metadata": {
      "needs_background": "light"
     },
     "output_type": "display_data"
    },
    {
     "data": {
      "image/png": "[encoded data removed]",
      "text/plain": [
       "<matplotlib.figure.Figure at 0x7f83c09976a0>"
      ]
     },
     "metadata": {
      "needs_background": "light"
     },
     "output_type": "display_data"
    }
   ],
   "source": [
    "# Visualization of preprocessed image and original image\n",
    "X_class = X_train[y_train == 6]\n",
    "rand_idx = np.random.randint(len(X_class))\n",
    "rand_original_img = X_class[rand_idx]\n",
    "plt.figure()\n",
    "plt.imshow(rand_original_img)\n",
    "mpimg.imsave('../images/original_image.jpg', rand_original_img)\n",
    "\n",
    "X_class_norm = X_train_norm_Y[y_train == 6]\n",
    "rand_norm_img = X_class_norm[rand_idx]\n",
    "plt.figure()\n",
    "plt.imshow(rand_norm_img[:,:,0], cmap='gray')\n",
    "mpimg.imsave('../images/preprocessed_image.jpg', rand_norm_img[:,:,0], cmap='gray')"
   ]
  },
  {
   "cell_type": "markdown",
   "metadata": {},
   "source": [
    "### LeNet-5 Model Architecture"
   ]
  },
  {
   "cell_type": "code",
   "execution_count": 30,
   "metadata": {},
   "outputs": [],
   "source": [
    "def LeNet(x, layer1_features=6, layer2_features=16, channel=3, two_stage=False):    \n",
    "    # Arguments used for tf.truncated_normal, randomly defines variables for the weights and biases for each layer\n",
    "    mu = 0\n",
    "    sigma = 0.1\n",
    "    \n",
    "    # Layer 1: Convolutional. Input = 32x32x3. Output = 28x28x[depth].\n",
    "    conv_w1 = tf.Variable(tf.random_normal([5,5,channel,layer1_features], mean=mu, stddev=sigma))\n",
    "    conv_b1 = tf.Variable(tf.random_normal([layer1_features], mean=mu, stddev=sigma))\n",
    "    conv1 = tf.nn.conv2d(x, conv_w1, strides=[1, 1, 1, 1], padding='VALID')\n",
    "    conv1 = tf.nn.bias_add(conv1, conv_b1)\n",
    "    # Activation.\n",
    "    conv1 = tf.nn.relu(conv1) \n",
    "    # Dropout\n",
    "    conv1 = tf.nn.dropout(conv1, keep_prob)\n",
    "    # Pooling. Input = 28x28x[depth]. Output = 14x14x[depth].\n",
    "    conv1 = tf.nn.max_pool(conv1, ksize=[1,2,2,1], strides=[1,2,2,1], padding='VALID')\n",
    "    \n",
    "    # Layer 2: Convolutional. Output = 10x10x16.\n",
    "    conv_w2 = tf.Variable(tf.random_normal([5,5,layer1_features,layer2_features], mean=mu, stddev=sigma))\n",
    "    conv_b2 = tf.Variable(tf.random_normal([layer2_features], mean=mu, stddev=sigma))\n",
    "    conv2 = tf.nn.conv2d(conv1, conv_w2, strides=[1, 1, 1, 1], padding='VALID')\n",
    "    conv2 = tf.nn.bias_add(conv2, conv_b2)\n",
    "    # Activation.\n",
    "    conv2 = tf.nn.relu(conv2)\n",
    "    # Dropout\n",
    "    conv2 = tf.nn.dropout(conv2, keep_prob)\n",
    "    # Pooling. Input = 10x10x[depth]. Output = 5x5x[depth].\n",
    "    conv2 = tf.nn.max_pool(conv2, ksize=[1,2,2,1], strides=[1,2,2,1], padding='VALID')\n",
    "    \n",
    "    if two_stage:\n",
    "        # Flatten. Input = 5x5x[depth]. Output = 400.\n",
    "        fc0_1 = flatten(conv1) \n",
    "        fc0_2 = flatten(conv2) \n",
    "        fc0 = tf.concat([fc0_1, fc0_2], axis=1)\n",
    "        total_neurons = 14*14*layer1_features + 5*5*layer2_features\n",
    "    else:\n",
    "        fc0 = flatten(conv2) \n",
    "        total_neurons = 5*5*layer2_features\n",
    "    \n",
    "    # Layer 3: Fully Connected. Output = 120.\n",
    "    fc_w1 = tf.Variable(tf.random_normal([total_neurons,120], mean=mu, stddev=sigma))\n",
    "    fc_b1 = tf.Variable(tf.random_normal([120], mean=mu, stddev=sigma))\n",
    "    fc1 = tf.add(tf.matmul(fc0, fc_w1), fc_b1)\n",
    "    # Activation.\n",
    "    fc1 = tf.nn.relu(fc1)\n",
    "    # Dropout\n",
    "    fc1 = tf.nn.dropout(fc1, keep_prob)\n",
    "    \n",
    "    if not two_stage:\n",
    "        # Layer 4: Fully Connected. Input = 120. Output = 84.\n",
    "        fc_w2 = tf.Variable(tf.random_normal([120,84], mean=mu, stddev=sigma))\n",
    "        fc_b2 = tf.Variable(tf.random_normal([84], mean=mu, stddev=sigma))\n",
    "        fc2 = tf.add(tf.matmul(fc1, fc_w2), fc_b2)\n",
    "        # Activation.\n",
    "        fc2 = tf.nn.relu(fc2)\n",
    "        # Dropout\n",
    "        fc2 = tf.nn.dropout(fc2, keep_prob)\n",
    "\n",
    "        # Layer 5: Fully Connected. Input = 84. Output = 43.\n",
    "        fc_w3 = tf.Variable(tf.random_normal([84,43], mean=mu, stddev=sigma))\n",
    "        fc_b3 = tf.Variable(tf.random_normal([43], mean=mu, stddev=sigma))\n",
    "        fc3 = tf.add(tf.matmul(fc2, fc_w3), fc_b3)\n",
    "        logits = fc3\n",
    "    else:\n",
    "        # Layer 5: Fully Connected. Input = 120. Output = 43.\n",
    "        fc_w2 = tf.Variable(tf.random_normal([120,43], mean=mu, stddev=sigma))\n",
    "        fc_b2 = tf.Variable(tf.random_normal([43], mean=mu, stddev=sigma))\n",
    "        fc2 = tf.add(tf.matmul(fc1, fc_w2), fc_b2)\n",
    "        logits = fc2   \n",
    "    \n",
    "    return logits"
   ]
  },
  {
   "cell_type": "markdown",
   "metadata": {},
   "source": [
    "### Train, Validate and Test the Model"
   ]
  },
  {
   "cell_type": "markdown",
   "metadata": {},
   "source": [
    "A validation set can be used to assess how well the model is performing. A low accuracy on the training and validation\n",
    "sets imply underfitting. A high accuracy on the training set but low accuracy on the validation set implies overfitting."
   ]
  },
  {
   "cell_type": "markdown",
   "metadata": {},
   "source": [
    "#### Training pipeline"
   ]
  },
  {
   "cell_type": "code",
   "execution_count": 31,
   "metadata": {},
   "outputs": [],
   "source": [
    "# placeholders\n",
    "x = tf.placeholder(dtype=tf.float32, shape=(None, 32, 32, 1))\n",
    "y = tf.placeholder(dtype=tf.int32, shape=None)\n",
    "keep_prob = tf.placeholder(tf.float32)\n",
    "one_hot_y = tf.one_hot(y, 43)"
   ]
  },
  {
   "cell_type": "code",
   "execution_count": 32,
   "metadata": {},
   "outputs": [],
   "source": [
    "rate = 0.001\n",
    "\n",
    "def training_pipeline(lr, logits):\n",
    "    cross_entropy = tf.nn.softmax_cross_entropy_with_logits(labels=one_hot_y, logits=logits)\n",
    "    loss_operation = tf.reduce_mean(cross_entropy)\n",
    "    optimizer = tf.train.AdamOptimizer(learning_rate=lr)\n",
    "    training_operation = optimizer.minimize(loss_operation)\n",
    "    \n",
    "    return training_operation\n",
    "    \n",
    "logits_baseline = LeNet(x, layer1_features=6, layer2_features=16, channel=1, two_stage=False)\n",
    "logits_one_stage_38_64 = LeNet(x, layer1_features=38, layer2_features=64, channel=1, two_stage=False)\n",
    "logits_two_stage_38_64 = LeNet(x, layer1_features=38, layer2_features=64, channel=1, two_stage=True)\n",
    "\n",
    "training_baseline = training_pipeline(rate, logits_baseline)\n",
    "training_one_stage_38_64 = training_pipeline(rate, logits_one_stage_38_64)\n",
    "training_two_stage_38_64 = training_pipeline(rate, logits_two_stage_38_64)"
   ]
  },
  {
   "cell_type": "markdown",
   "metadata": {},
   "source": [
    "#### Model evaluation"
   ]
  },
  {
   "cell_type": "code",
   "execution_count": 33,
   "metadata": {},
   "outputs": [],
   "source": [
    "def accuracy(logits):\n",
    "    correct_prediction = tf.equal(tf.argmax(logits, 1), tf.cast(y, tf.int64))\n",
    "    accuracy_operation = tf.reduce_mean(tf.cast(correct_prediction, tf.float32))\n",
    "    return accuracy_operation\n",
    "\n",
    "def evaluate(X_data, y_data, accuracy_operation):\n",
    "    num_examples = len(X_data)\n",
    "    total_accuracy = 0\n",
    "    \n",
    "    sess = tf.get_default_session()\n",
    "    for offset in range(0, num_examples, BATCH_SIZE):\n",
    "        batch_x, batch_y = X_data[offset:offset+BATCH_SIZE], y_data[offset:offset+BATCH_SIZE]\n",
    "        accuracy = sess.run(accuracy_operation, feed_dict={x: batch_x, y: batch_y, keep_prob: 1.0})\n",
    "        total_accuracy += (accuracy * len(batch_x))\n",
    "        \n",
    "    return total_accuracy / num_examples\n",
    "\n",
    "accuracy_baseline = accuracy(logits_baseline)\n",
    "accuracy_one_stage_38_64 = accuracy(logits_one_stage_38_64)\n",
    "accuracy_two_stage_38_64 = accuracy(logits_two_stage_38_64)\n",
    "\n",
    "num_models = 5\n",
    "saver = tf.train.Saver(max_to_keep=num_models*4)"
   ]
  },
  {
   "cell_type": "markdown",
   "metadata": {},
   "source": [
    "#### Train the model"
   ]
  },
  {
   "cell_type": "code",
   "execution_count": 35,
   "metadata": {},
   "outputs": [
    {
     "name": "stdout",
     "output_type": "stream",
     "text": [
      "Training...\n",
      "EPOCH 5 ...\n",
      "baselineY: Train Accuracy = 0.949 - Validation Accuracy: 0.879\n",
      "EPOCH 10 ...\n",
      "baselineY: Train Accuracy = 0.974 - Validation Accuracy: 0.931\n",
      "EPOCH 15 ...\n",
      "baselineY: Train Accuracy = 0.979 - Validation Accuracy: 0.929\n",
      "EPOCH 20 ...\n",
      "baselineY: Train Accuracy = 0.988 - Validation Accuracy: 0.940\n",
      "EPOCH 25 ...\n",
      "baselineY: Train Accuracy = 0.989 - Validation Accuracy: 0.936\n",
      "EPOCH 30 ...\n",
      "baselineY: Train Accuracy = 0.989 - Validation Accuracy: 0.945\n",
      "Model saved\n",
      "EPOCH 5 ...\n",
      "baselineY: Train Accuracy = 0.947 - Validation Accuracy: 0.884\n",
      "EPOCH 10 ...\n",
      "baselineY: Train Accuracy = 0.971 - Validation Accuracy: 0.908\n",
      "EPOCH 15 ...\n",
      "baselineY: Train Accuracy = 0.984 - Validation Accuracy: 0.929\n",
      "EPOCH 20 ...\n",
      "baselineY: Train Accuracy = 0.986 - Validation Accuracy: 0.934\n",
      "EPOCH 25 ...\n",
      "baselineY: Train Accuracy = 0.987 - Validation Accuracy: 0.926\n",
      "EPOCH 30 ...\n",
      "baselineY: Train Accuracy = 0.988 - Validation Accuracy: 0.946\n",
      "Model saved\n",
      "EPOCH 5 ...\n",
      "baselineY: Train Accuracy = 0.931 - Validation Accuracy: 0.856\n",
      "EPOCH 10 ...\n",
      "baselineY: Train Accuracy = 0.971 - Validation Accuracy: 0.909\n",
      "EPOCH 15 ...\n",
      "baselineY: Train Accuracy = 0.979 - Validation Accuracy: 0.920\n",
      "EPOCH 20 ...\n",
      "baselineY: Train Accuracy = 0.984 - Validation Accuracy: 0.923\n",
      "EPOCH 25 ...\n",
      "baselineY: Train Accuracy = 0.988 - Validation Accuracy: 0.930\n",
      "EPOCH 30 ...\n",
      "baselineY: Train Accuracy = 0.991 - Validation Accuracy: 0.936\n",
      "Model saved\n",
      "EPOCH 5 ...\n",
      "baselineY: Train Accuracy = 0.939 - Validation Accuracy: 0.855\n",
      "EPOCH 10 ...\n",
      "baselineY: Train Accuracy = 0.969 - Validation Accuracy: 0.905\n",
      "EPOCH 15 ...\n",
      "baselineY: Train Accuracy = 0.982 - Validation Accuracy: 0.928\n",
      "EPOCH 20 ...\n",
      "baselineY: Train Accuracy = 0.983 - Validation Accuracy: 0.927\n",
      "EPOCH 25 ...\n",
      "baselineY: Train Accuracy = 0.987 - Validation Accuracy: 0.934\n",
      "EPOCH 30 ...\n",
      "baselineY: Train Accuracy = 0.988 - Validation Accuracy: 0.935\n",
      "Model saved\n",
      "EPOCH 5 ...\n",
      "baselineY: Train Accuracy = 0.937 - Validation Accuracy: 0.866\n",
      "EPOCH 10 ...\n",
      "baselineY: Train Accuracy = 0.968 - Validation Accuracy: 0.905\n",
      "EPOCH 15 ...\n",
      "baselineY: Train Accuracy = 0.979 - Validation Accuracy: 0.924\n",
      "EPOCH 20 ...\n",
      "baselineY: Train Accuracy = 0.985 - Validation Accuracy: 0.941\n",
      "EPOCH 25 ...\n",
      "baselineY: Train Accuracy = 0.987 - Validation Accuracy: 0.946\n",
      "EPOCH 30 ...\n",
      "baselineY: Train Accuracy = 0.989 - Validation Accuracy: 0.947\n",
      "Model saved\n",
      "Training...\n",
      "EPOCH 5 ...\n",
      "one_stage_38_64Y: Train Accuracy = 0.958 - Validation Accuracy: 0.900\n",
      "EPOCH 10 ...\n",
      "one_stage_38_64Y: Train Accuracy = 0.989 - Validation Accuracy: 0.953\n",
      "EPOCH 15 ...\n",
      "one_stage_38_64Y: Train Accuracy = 0.995 - Validation Accuracy: 0.965\n",
      "EPOCH 20 ...\n",
      "one_stage_38_64Y: Train Accuracy = 0.997 - Validation Accuracy: 0.956\n",
      "EPOCH 25 ...\n",
      "one_stage_38_64Y: Train Accuracy = 0.996 - Validation Accuracy: 0.962\n",
      "EPOCH 30 ...\n",
      "one_stage_38_64Y: Train Accuracy = 0.997 - Validation Accuracy: 0.961\n",
      "Model saved\n",
      "EPOCH 5 ...\n",
      "one_stage_38_64Y: Train Accuracy = 0.968 - Validation Accuracy: 0.902\n",
      "EPOCH 10 ...\n",
      "one_stage_38_64Y: Train Accuracy = 0.992 - Validation Accuracy: 0.955\n",
      "EPOCH 15 ...\n",
      "one_stage_38_64Y: Train Accuracy = 0.996 - Validation Accuracy: 0.961\n",
      "EPOCH 20 ...\n",
      "one_stage_38_64Y: Train Accuracy = 0.997 - Validation Accuracy: 0.966\n",
      "EPOCH 25 ...\n",
      "one_stage_38_64Y: Train Accuracy = 0.998 - Validation Accuracy: 0.962\n",
      "EPOCH 30 ...\n",
      "one_stage_38_64Y: Train Accuracy = 0.999 - Validation Accuracy: 0.971\n",
      "Model saved\n",
      "EPOCH 5 ...\n",
      "one_stage_38_64Y: Train Accuracy = 0.956 - Validation Accuracy: 0.891\n",
      "EPOCH 10 ...\n",
      "one_stage_38_64Y: Train Accuracy = 0.987 - Validation Accuracy: 0.952\n",
      "EPOCH 15 ...\n",
      "one_stage_38_64Y: Train Accuracy = 0.995 - Validation Accuracy: 0.963\n",
      "EPOCH 20 ...\n",
      "one_stage_38_64Y: Train Accuracy = 0.997 - Validation Accuracy: 0.959\n",
      "EPOCH 25 ...\n",
      "one_stage_38_64Y: Train Accuracy = 0.998 - Validation Accuracy: 0.968\n",
      "EPOCH 30 ...\n",
      "one_stage_38_64Y: Train Accuracy = 0.998 - Validation Accuracy: 0.969\n",
      "Model saved\n",
      "EPOCH 5 ...\n",
      "one_stage_38_64Y: Train Accuracy = 0.962 - Validation Accuracy: 0.892\n",
      "EPOCH 10 ...\n",
      "one_stage_38_64Y: Train Accuracy = 0.990 - Validation Accuracy: 0.946\n",
      "EPOCH 15 ...\n",
      "one_stage_38_64Y: Train Accuracy = 0.995 - Validation Accuracy: 0.958\n",
      "EPOCH 20 ...\n",
      "one_stage_38_64Y: Train Accuracy = 0.997 - Validation Accuracy: 0.967\n",
      "EPOCH 25 ...\n",
      "one_stage_38_64Y: Train Accuracy = 0.998 - Validation Accuracy: 0.969\n",
      "EPOCH 30 ...\n",
      "one_stage_38_64Y: Train Accuracy = 0.998 - Validation Accuracy: 0.968\n",
      "Model saved\n",
      "EPOCH 5 ...\n",
      "one_stage_38_64Y: Train Accuracy = 0.962 - Validation Accuracy: 0.888\n",
      "EPOCH 10 ...\n",
      "one_stage_38_64Y: Train Accuracy = 0.987 - Validation Accuracy: 0.939\n",
      "EPOCH 15 ...\n",
      "one_stage_38_64Y: Train Accuracy = 0.995 - Validation Accuracy: 0.957\n",
      "EPOCH 20 ...\n",
      "one_stage_38_64Y: Train Accuracy = 0.997 - Validation Accuracy: 0.962\n",
      "EPOCH 25 ...\n",
      "one_stage_38_64Y: Train Accuracy = 0.998 - Validation Accuracy: 0.966\n",
      "EPOCH 30 ...\n",
      "one_stage_38_64Y: Train Accuracy = 0.999 - Validation Accuracy: 0.966\n",
      "Model saved\n",
      "Training...\n",
      "EPOCH 5 ...\n",
      "two_stage_38_64Y: Train Accuracy = 0.972 - Validation Accuracy: 0.872\n",
      "EPOCH 10 ...\n",
      "two_stage_38_64Y: Train Accuracy = 0.993 - Validation Accuracy: 0.926\n",
      "EPOCH 15 ...\n",
      "two_stage_38_64Y: Train Accuracy = 0.996 - Validation Accuracy: 0.941\n",
      "EPOCH 20 ...\n",
      "two_stage_38_64Y: Train Accuracy = 0.999 - Validation Accuracy: 0.948\n",
      "EPOCH 25 ...\n",
      "two_stage_38_64Y: Train Accuracy = 0.999 - Validation Accuracy: 0.957\n",
      "EPOCH 30 ...\n",
      "two_stage_38_64Y: Train Accuracy = 0.999 - Validation Accuracy: 0.953\n",
      "Model saved\n",
      "EPOCH 5 ...\n",
      "two_stage_38_64Y: Train Accuracy = 0.974 - Validation Accuracy: 0.886\n",
      "EPOCH 10 ...\n",
      "two_stage_38_64Y: Train Accuracy = 0.992 - Validation Accuracy: 0.917\n",
      "EPOCH 15 ...\n",
      "two_stage_38_64Y: Train Accuracy = 0.995 - Validation Accuracy: 0.936\n",
      "EPOCH 20 ...\n",
      "two_stage_38_64Y: Train Accuracy = 0.998 - Validation Accuracy: 0.938\n",
      "EPOCH 25 ...\n",
      "two_stage_38_64Y: Train Accuracy = 0.999 - Validation Accuracy: 0.935\n",
      "EPOCH 30 ...\n",
      "two_stage_38_64Y: Train Accuracy = 0.999 - Validation Accuracy: 0.954\n",
      "Model saved\n",
      "EPOCH 5 ...\n",
      "two_stage_38_64Y: Train Accuracy = 0.970 - Validation Accuracy: 0.876\n",
      "EPOCH 10 ...\n",
      "two_stage_38_64Y: Train Accuracy = 0.992 - Validation Accuracy: 0.910\n",
      "EPOCH 15 ...\n",
      "two_stage_38_64Y: Train Accuracy = 0.996 - Validation Accuracy: 0.943\n",
      "EPOCH 20 ...\n",
      "two_stage_38_64Y: Train Accuracy = 0.998 - Validation Accuracy: 0.944\n",
      "EPOCH 25 ...\n",
      "two_stage_38_64Y: Train Accuracy = 0.999 - Validation Accuracy: 0.932\n",
      "EPOCH 30 ...\n",
      "two_stage_38_64Y: Train Accuracy = 1.000 - Validation Accuracy: 0.949\n",
      "Model saved\n",
      "EPOCH 5 ...\n",
      "two_stage_38_64Y: Train Accuracy = 0.977 - Validation Accuracy: 0.894\n",
      "EPOCH 10 ...\n",
      "two_stage_38_64Y: Train Accuracy = 0.991 - Validation Accuracy: 0.921\n",
      "EPOCH 15 ...\n",
      "two_stage_38_64Y: Train Accuracy = 0.997 - Validation Accuracy: 0.935\n",
      "EPOCH 20 ...\n",
      "two_stage_38_64Y: Train Accuracy = 0.999 - Validation Accuracy: 0.947\n",
      "EPOCH 25 ...\n",
      "two_stage_38_64Y: Train Accuracy = 0.999 - Validation Accuracy: 0.951\n",
      "EPOCH 30 ...\n",
      "two_stage_38_64Y: Train Accuracy = 0.999 - Validation Accuracy: 0.941\n",
      "Model saved\n",
      "EPOCH 5 ...\n",
      "two_stage_38_64Y: Train Accuracy = 0.972 - Validation Accuracy: 0.896\n",
      "EPOCH 10 ...\n",
      "two_stage_38_64Y: Train Accuracy = 0.993 - Validation Accuracy: 0.932\n",
      "EPOCH 15 ...\n",
      "two_stage_38_64Y: Train Accuracy = 0.997 - Validation Accuracy: 0.944\n",
      "EPOCH 20 ...\n",
      "two_stage_38_64Y: Train Accuracy = 0.998 - Validation Accuracy: 0.938\n",
      "EPOCH 25 ...\n",
      "two_stage_38_64Y: Train Accuracy = 0.998 - Validation Accuracy: 0.951\n",
      "EPOCH 30 ...\n",
      "two_stage_38_64Y: Train Accuracy = 0.999 - Validation Accuracy: 0.943\n",
      "Model saved\n"
     ]
    }
   ],
   "source": [
    "EPOCHS = 30\n",
    "BATCH_SIZE = 128\n",
    "\n",
    "def train(model_name, training_operation, accuracy_operation, X_train, X_valid, y_train, y_valid):        \n",
    "    with tf.Session() as sess:\n",
    "        num_examples = len(X_train)\n",
    "\n",
    "        print(\"Training...\")\n",
    "        validation_accuracy_sum = 0\n",
    "\n",
    "        for j in range(num_models):\n",
    "            sess.run(tf.global_variables_initializer())\n",
    "            for i in range(EPOCHS):\n",
    "                X_train, y_train = shuffle(X_train, y_train)\n",
    "                for offset in range(0, num_examples, BATCH_SIZE):\n",
    "                    end = offset + BATCH_SIZE\n",
    "                    batch_x, batch_y = X_train[offset:end], y_train[offset:end]\n",
    "                    sess.run(training_operation, feed_dict={x: batch_x, y: batch_y, keep_prob: 0.6})\n",
    "                \n",
    "                train_accuracy = evaluate(X_train, y_train, accuracy_operation)\n",
    "                validation_accuracy = evaluate(X_valid, y_valid, accuracy_operation)\n",
    "                \n",
    "                if ((i + 1) % 5 == 0):\n",
    "                    print(\"EPOCH {} ...\".format(i+1))            \n",
    "                    print(model_name + \": Train Accuracy = {:.3f} - Validation Accuracy: {:.3f}\".format(train_accuracy, validation_accuracy))\n",
    "\n",
    "            validation_accuracy_sum += validation_accuracy\n",
    "\n",
    "            saver.save(sess, '../model/' + model_name + str(j) + '.ckpt')\n",
    "            print(\"Model saved\")\n",
    "\n",
    "        avg_validation_accuracy = validation_accuracy_sum / num_models\n",
    "        \n",
    "    return avg_validation_accuracy\n",
    "\n",
    "baseline_accuracy = train('baselineY', \n",
    "                          training_baseline, \n",
    "                          accuracy_baseline, \n",
    "                          X_train_norm_Y, \n",
    "                          X_valid_norm_Y, \n",
    "                          y_train_aug, y_valid)\n",
    "\n",
    "one_stage_38_64_accuracy = train('one_stage_38_64Y', \n",
    "                                 training_one_stage_38_64, \n",
    "                                 accuracy_one_stage_38_64, \n",
    "                                 X_train_norm_Y, \n",
    "                                 X_valid_norm_Y, \n",
    "                                 y_train_aug, y_valid)\n",
    "\n",
    "two_stage_38_64_accuracy = train('two_stage_38_64Y', \n",
    "                                 training_two_stage_38_64, \n",
    "                                 accuracy_two_stage_38_64, \n",
    "                                 X_train_norm_Y, \n",
    "                                 X_valid_norm_Y, \n",
    "                                 y_train_aug, y_valid)"
   ]
  },
  {
   "cell_type": "markdown",
   "metadata": {},
   "source": [
    "#### Boosting"
   ]
  },
  {
   "cell_type": "code",
   "execution_count": 36,
   "metadata": {},
   "outputs": [],
   "source": [
    "def softmax(prediction, n_classes):\n",
    "    prediction_exp = np.exp(prediction, dtype=np.float64)\n",
    "    prediction_exp_sum = np.sum(prediction_exp, axis=1)\n",
    "    softmax = np.zeros((len(prediction), n_classes))\n",
    "    for i in range(len(prediction)):\n",
    "        softmax[i] = prediction_exp[i]/prediction_exp_sum[i]\n",
    "        \n",
    "    return softmax\n",
    "    \n",
    "def boosting_evaluate(model_name, logits, X_data, y_data, show_prediction=False, show_top_k=False):\n",
    "    num_examples = len(X_data)\n",
    "    accuracy_sum = 0\n",
    "    \n",
    "    with tf.Session() as sess:\n",
    "        # Restore variables from disk.\n",
    "        boosted_prediction = np.zeros((num_examples, 43))\n",
    "        for i in range(num_models):\n",
    "            saver.restore(sess, '../model/' + model_name + str(i) + '.ckpt')\n",
    "            \n",
    "            single_output = logits.eval(feed_dict={x: X_data, keep_prob: 1.0})\n",
    "            single_accuracy = np.sum(np.equal(np.argmax(single_output, axis=1), y_data))/num_examples\n",
    "            accuracy_sum += single_accuracy\n",
    "            \n",
    "            # Softmax\n",
    "            single_softmax = softmax(single_output, 43)\n",
    "            boosted_prediction += single_softmax\n",
    "\n",
    "        boosted_prediction_sum = np.sum(boosted_prediction, axis=1)\n",
    "        boosted_prediction_prob = np.zeros((num_examples, 43))\n",
    "        for i in range(len(boosted_prediction)):\n",
    "            boosted_prediction_prob[i] = boosted_prediction[i]/boosted_prediction_sum[i]\n",
    "        \n",
    "        correct_prediction = np.sum(np.equal(np.argmax(boosted_prediction_prob, axis=1), y_data))\n",
    "        avg_accuracy = accuracy_sum/num_models\n",
    "        final_accuracy = correct_prediction/num_examples\n",
    "\n",
    "        if show_prediction:\n",
    "            print('Predicted label: ' + str(np.argmax(boosted_prediction_prob, axis=1)))\n",
    "            print('True label: ' + str(y_data))\n",
    "            \n",
    "        if show_top_k:\n",
    "            for i in range(num_examples):\n",
    "                print('Top 5 prediction for image' + str(i + 1) + ' is: (True label is ' + str(y_data[i]) + ')')\n",
    "                top5 = sess.run(tf.nn.top_k(tf.constant(boosted_prediction_prob[i,:]), k=5))\n",
    "                print('- Prediction = ' + str(top5[1][0]) + ' has the probability of {:.1f}%'.format(100*top5[0][0]))\n",
    "                print('- Prediction = ' + str(top5[1][1]) + ' has the probability of {:.1f}%'.format(100*top5[0][1]))\n",
    "                print('- Prediction = ' + str(top5[1][2]) + ' has the probability of {:.1f}%'.format(100*top5[0][2]))\n",
    "                print('- Prediction = ' + str(top5[1][3]) + ' has the probability of {:.1f}%'.format(100*top5[0][3]))\n",
    "                print('- Prediction = ' + str(top5[1][4]) + ' has the probability of {:.1f}%'.format(100*top5[0][4]))\n",
    "        #print(np.sum(np.equal(np.argmax(boosted_prediction, axis=1), y_data)))\n",
    "        #print(len(y_data))\n",
    "        #print('Accuracy: {:.1f}%'.format(100*final_accuracy))\n",
    "        return avg_accuracy, final_accuracy\n",
    "    \n"
   ]
  },
  {
   "cell_type": "markdown",
   "metadata": {},
   "source": [
    "#### Training accuracy"
   ]
  },
  {
   "cell_type": "code",
   "execution_count": 37,
   "metadata": {},
   "outputs": [
    {
     "name": "stdout",
     "output_type": "stream",
     "text": [
      "INFO:tensorflow:Restoring parameters from ../model/baselineY0.ckpt\n"
     ]
    },
    {
     "name": "stderr",
     "output_type": "stream",
     "text": [
      "INFO:tensorflow:Restoring parameters from ../model/baselineY0.ckpt\n"
     ]
    },
    {
     "name": "stdout",
     "output_type": "stream",
     "text": [
      "INFO:tensorflow:Restoring parameters from ../model/baselineY1.ckpt\n"
     ]
    },
    {
     "name": "stderr",
     "output_type": "stream",
     "text": [
      "INFO:tensorflow:Restoring parameters from ../model/baselineY1.ckpt\n"
     ]
    },
    {
     "name": "stdout",
     "output_type": "stream",
     "text": [
      "INFO:tensorflow:Restoring parameters from ../model/baselineY2.ckpt\n"
     ]
    },
    {
     "name": "stderr",
     "output_type": "stream",
     "text": [
      "INFO:tensorflow:Restoring parameters from ../model/baselineY2.ckpt\n"
     ]
    },
    {
     "name": "stdout",
     "output_type": "stream",
     "text": [
      "INFO:tensorflow:Restoring parameters from ../model/baselineY3.ckpt\n"
     ]
    },
    {
     "name": "stderr",
     "output_type": "stream",
     "text": [
      "INFO:tensorflow:Restoring parameters from ../model/baselineY3.ckpt\n"
     ]
    },
    {
     "name": "stdout",
     "output_type": "stream",
     "text": [
      "INFO:tensorflow:Restoring parameters from ../model/baselineY4.ckpt\n"
     ]
    },
    {
     "name": "stderr",
     "output_type": "stream",
     "text": [
      "INFO:tensorflow:Restoring parameters from ../model/baselineY4.ckpt\n"
     ]
    },
    {
     "name": "stdout",
     "output_type": "stream",
     "text": [
      "INFO:tensorflow:Restoring parameters from ../model/one_stage_38_64Y0.ckpt\n"
     ]
    },
    {
     "name": "stderr",
     "output_type": "stream",
     "text": [
      "INFO:tensorflow:Restoring parameters from ../model/one_stage_38_64Y0.ckpt\n"
     ]
    },
    {
     "name": "stdout",
     "output_type": "stream",
     "text": [
      "INFO:tensorflow:Restoring parameters from ../model/one_stage_38_64Y1.ckpt\n"
     ]
    },
    {
     "name": "stderr",
     "output_type": "stream",
     "text": [
      "INFO:tensorflow:Restoring parameters from ../model/one_stage_38_64Y1.ckpt\n"
     ]
    },
    {
     "name": "stdout",
     "output_type": "stream",
     "text": [
      "INFO:tensorflow:Restoring parameters from ../model/one_stage_38_64Y2.ckpt\n"
     ]
    },
    {
     "name": "stderr",
     "output_type": "stream",
     "text": [
      "INFO:tensorflow:Restoring parameters from ../model/one_stage_38_64Y2.ckpt\n"
     ]
    },
    {
     "name": "stdout",
     "output_type": "stream",
     "text": [
      "INFO:tensorflow:Restoring parameters from ../model/one_stage_38_64Y3.ckpt\n"
     ]
    },
    {
     "name": "stderr",
     "output_type": "stream",
     "text": [
      "INFO:tensorflow:Restoring parameters from ../model/one_stage_38_64Y3.ckpt\n"
     ]
    },
    {
     "name": "stdout",
     "output_type": "stream",
     "text": [
      "INFO:tensorflow:Restoring parameters from ../model/one_stage_38_64Y4.ckpt\n"
     ]
    },
    {
     "name": "stderr",
     "output_type": "stream",
     "text": [
      "INFO:tensorflow:Restoring parameters from ../model/one_stage_38_64Y4.ckpt\n"
     ]
    },
    {
     "name": "stdout",
     "output_type": "stream",
     "text": [
      "INFO:tensorflow:Restoring parameters from ../model/two_stage_38_64Y0.ckpt\n"
     ]
    },
    {
     "name": "stderr",
     "output_type": "stream",
     "text": [
      "INFO:tensorflow:Restoring parameters from ../model/two_stage_38_64Y0.ckpt\n"
     ]
    },
    {
     "name": "stdout",
     "output_type": "stream",
     "text": [
      "INFO:tensorflow:Restoring parameters from ../model/two_stage_38_64Y1.ckpt\n"
     ]
    },
    {
     "name": "stderr",
     "output_type": "stream",
     "text": [
      "INFO:tensorflow:Restoring parameters from ../model/two_stage_38_64Y1.ckpt\n"
     ]
    },
    {
     "name": "stdout",
     "output_type": "stream",
     "text": [
      "INFO:tensorflow:Restoring parameters from ../model/two_stage_38_64Y2.ckpt\n"
     ]
    },
    {
     "name": "stderr",
     "output_type": "stream",
     "text": [
      "INFO:tensorflow:Restoring parameters from ../model/two_stage_38_64Y2.ckpt\n"
     ]
    },
    {
     "name": "stdout",
     "output_type": "stream",
     "text": [
      "INFO:tensorflow:Restoring parameters from ../model/two_stage_38_64Y3.ckpt\n"
     ]
    },
    {
     "name": "stderr",
     "output_type": "stream",
     "text": [
      "INFO:tensorflow:Restoring parameters from ../model/two_stage_38_64Y3.ckpt\n"
     ]
    },
    {
     "name": "stdout",
     "output_type": "stream",
     "text": [
      "INFO:tensorflow:Restoring parameters from ../model/two_stage_38_64Y4.ckpt\n"
     ]
    },
    {
     "name": "stderr",
     "output_type": "stream",
     "text": [
      "INFO:tensorflow:Restoring parameters from ../model/two_stage_38_64Y4.ckpt\n"
     ]
    },
    {
     "name": "stdout",
     "output_type": "stream",
     "text": [
      "Original LeNet-5 architecture:\n",
      "- Training accuracy without boosting: 98.1%, Training accuracy with boosting: 99.2%\n",
      "\n",
      "Modified LeNet-5 architecture:\n",
      "- Training accuracy without boosting: 99.7%, Training accuracy with boosting: 99.9%\n",
      "\n",
      "Two-stage architecture:\n",
      "- Training accuracy without boosting: 99.9%, Training accuracy with boosting: 100.0%\n"
     ]
    }
   ],
   "source": [
    "X_train_norm_Y = preprocess_image_YUV(X_train_norm)\n",
    "baseline_avg_accuracy, baseline_boosting_accuracy = boosting_evaluate('baselineY', logits_baseline, X_train_norm_Y, y_train)\n",
    "one_stage_38_64_avg_accuracy, one_stage_38_64_boosting_accuracy = boosting_evaluate('one_stage_38_64Y', logits_one_stage_38_64, X_train_norm_Y, y_train)\n",
    "two_stage_38_64_avg_accuracy, two_stage_38_64_boosting_accuracy = boosting_evaluate('two_stage_38_64Y', logits_two_stage_38_64, X_train_norm_Y, y_train)\n",
    "print('Original LeNet-5 architecture:')\n",
    "print('- Training accuracy without boosting: {:.1f}%, Training accuracy with boosting: {:.1f}%'.format(100*baseline_avg_accuracy, 100*baseline_boosting_accuracy))\n",
    "print()\n",
    "print('Modified LeNet-5 architecture:')\n",
    "print('- Training accuracy without boosting: {:.1f}%, Training accuracy with boosting: {:.1f}%'.format(100*one_stage_38_64_avg_accuracy, 100*one_stage_38_64_boosting_accuracy))\n",
    "print()\n",
    "print('Two-stage architecture:')\n",
    "print('- Training accuracy without boosting: {:.1f}%, Training accuracy with boosting: {:.1f}%'.format(100*two_stage_38_64_avg_accuracy, 100*two_stage_38_64_boosting_accuracy))\n"
   ]
  },
  {
   "cell_type": "markdown",
   "metadata": {},
   "source": [
    "#### Validation accuracy"
   ]
  },
  {
   "cell_type": "code",
   "execution_count": 38,
   "metadata": {},
   "outputs": [
    {
     "name": "stdout",
     "output_type": "stream",
     "text": [
      "INFO:tensorflow:Restoring parameters from ../model/baselineY0.ckpt\n"
     ]
    },
    {
     "name": "stderr",
     "output_type": "stream",
     "text": [
      "INFO:tensorflow:Restoring parameters from ../model/baselineY0.ckpt\n"
     ]
    },
    {
     "name": "stdout",
     "output_type": "stream",
     "text": [
      "INFO:tensorflow:Restoring parameters from ../model/baselineY1.ckpt\n"
     ]
    },
    {
     "name": "stderr",
     "output_type": "stream",
     "text": [
      "INFO:tensorflow:Restoring parameters from ../model/baselineY1.ckpt\n"
     ]
    },
    {
     "name": "stdout",
     "output_type": "stream",
     "text": [
      "INFO:tensorflow:Restoring parameters from ../model/baselineY2.ckpt\n"
     ]
    },
    {
     "name": "stderr",
     "output_type": "stream",
     "text": [
      "INFO:tensorflow:Restoring parameters from ../model/baselineY2.ckpt\n"
     ]
    },
    {
     "name": "stdout",
     "output_type": "stream",
     "text": [
      "INFO:tensorflow:Restoring parameters from ../model/baselineY3.ckpt\n"
     ]
    },
    {
     "name": "stderr",
     "output_type": "stream",
     "text": [
      "INFO:tensorflow:Restoring parameters from ../model/baselineY3.ckpt\n"
     ]
    },
    {
     "name": "stdout",
     "output_type": "stream",
     "text": [
      "INFO:tensorflow:Restoring parameters from ../model/baselineY4.ckpt\n"
     ]
    },
    {
     "name": "stderr",
     "output_type": "stream",
     "text": [
      "INFO:tensorflow:Restoring parameters from ../model/baselineY4.ckpt\n"
     ]
    },
    {
     "name": "stdout",
     "output_type": "stream",
     "text": [
      "INFO:tensorflow:Restoring parameters from ../model/one_stage_38_64Y0.ckpt\n"
     ]
    },
    {
     "name": "stderr",
     "output_type": "stream",
     "text": [
      "INFO:tensorflow:Restoring parameters from ../model/one_stage_38_64Y0.ckpt\n"
     ]
    },
    {
     "name": "stdout",
     "output_type": "stream",
     "text": [
      "INFO:tensorflow:Restoring parameters from ../model/one_stage_38_64Y1.ckpt\n"
     ]
    },
    {
     "name": "stderr",
     "output_type": "stream",
     "text": [
      "INFO:tensorflow:Restoring parameters from ../model/one_stage_38_64Y1.ckpt\n"
     ]
    },
    {
     "name": "stdout",
     "output_type": "stream",
     "text": [
      "INFO:tensorflow:Restoring parameters from ../model/one_stage_38_64Y2.ckpt\n"
     ]
    },
    {
     "name": "stderr",
     "output_type": "stream",
     "text": [
      "INFO:tensorflow:Restoring parameters from ../model/one_stage_38_64Y2.ckpt\n"
     ]
    },
    {
     "name": "stdout",
     "output_type": "stream",
     "text": [
      "INFO:tensorflow:Restoring parameters from ../model/one_stage_38_64Y3.ckpt\n"
     ]
    },
    {
     "name": "stderr",
     "output_type": "stream",
     "text": [
      "INFO:tensorflow:Restoring parameters from ../model/one_stage_38_64Y3.ckpt\n"
     ]
    },
    {
     "name": "stdout",
     "output_type": "stream",
     "text": [
      "INFO:tensorflow:Restoring parameters from ../model/one_stage_38_64Y4.ckpt\n"
     ]
    },
    {
     "name": "stderr",
     "output_type": "stream",
     "text": [
      "INFO:tensorflow:Restoring parameters from ../model/one_stage_38_64Y4.ckpt\n"
     ]
    },
    {
     "name": "stdout",
     "output_type": "stream",
     "text": [
      "INFO:tensorflow:Restoring parameters from ../model/two_stage_38_64Y0.ckpt\n"
     ]
    },
    {
     "name": "stderr",
     "output_type": "stream",
     "text": [
      "INFO:tensorflow:Restoring parameters from ../model/two_stage_38_64Y0.ckpt\n"
     ]
    },
    {
     "name": "stdout",
     "output_type": "stream",
     "text": [
      "INFO:tensorflow:Restoring parameters from ../model/two_stage_38_64Y1.ckpt\n"
     ]
    },
    {
     "name": "stderr",
     "output_type": "stream",
     "text": [
      "INFO:tensorflow:Restoring parameters from ../model/two_stage_38_64Y1.ckpt\n"
     ]
    },
    {
     "name": "stdout",
     "output_type": "stream",
     "text": [
      "INFO:tensorflow:Restoring parameters from ../model/two_stage_38_64Y2.ckpt\n"
     ]
    },
    {
     "name": "stderr",
     "output_type": "stream",
     "text": [
      "INFO:tensorflow:Restoring parameters from ../model/two_stage_38_64Y2.ckpt\n"
     ]
    },
    {
     "name": "stdout",
     "output_type": "stream",
     "text": [
      "INFO:tensorflow:Restoring parameters from ../model/two_stage_38_64Y3.ckpt\n"
     ]
    },
    {
     "name": "stderr",
     "output_type": "stream",
     "text": [
      "INFO:tensorflow:Restoring parameters from ../model/two_stage_38_64Y3.ckpt\n"
     ]
    },
    {
     "name": "stdout",
     "output_type": "stream",
     "text": [
      "INFO:tensorflow:Restoring parameters from ../model/two_stage_38_64Y4.ckpt\n"
     ]
    },
    {
     "name": "stderr",
     "output_type": "stream",
     "text": [
      "INFO:tensorflow:Restoring parameters from ../model/two_stage_38_64Y4.ckpt\n"
     ]
    },
    {
     "name": "stdout",
     "output_type": "stream",
     "text": [
      "Original LeNet-5 architecture:\n",
      "- Validation accuracy without boosting: 94.2%, Validation accuracy with boosting: 96.4%\n",
      "\n",
      "Modified LeNet-5 architecture:\n",
      "- Validation accuracy without boosting: 96.7%, Validation accuracy with boosting: 97.8%\n",
      "\n",
      "Two-stage architecture:\n",
      "- Validation accuracy without boosting: 94.8%, Validation accuracy with boosting: 96.3%\n"
     ]
    }
   ],
   "source": [
    "baseline_avg_accuracy, baseline_boosting_accuracy = boosting_evaluate('baselineY', logits_baseline, X_valid_norm_Y, y_valid)\n",
    "one_stage_38_64_avg_accuracy, one_stage_38_64_boosting_accuracy = boosting_evaluate('one_stage_38_64Y', logits_one_stage_38_64, X_valid_norm_Y, y_valid)\n",
    "two_stage_38_64_avg_accuracy, two_stage_38_64_boosting_accuracy = boosting_evaluate('two_stage_38_64Y', logits_two_stage_38_64, X_valid_norm_Y, y_valid)\n",
    "\n",
    "print('Original LeNet-5 architecture:')\n",
    "print('- Validation accuracy without boosting: {:.1f}%, Validation accuracy with boosting: {:.1f}%'.format(100*baseline_avg_accuracy, 100*baseline_boosting_accuracy))\n",
    "print()\n",
    "print('Modified LeNet-5 architecture:')\n",
    "print('- Validation accuracy without boosting: {:.1f}%, Validation accuracy with boosting: {:.1f}%'.format(100*one_stage_38_64_avg_accuracy, 100*one_stage_38_64_boosting_accuracy))\n",
    "print()\n",
    "print('Two-stage architecture:')\n",
    "print('- Validation accuracy without boosting: {:.1f}%, Validation accuracy with boosting: {:.1f}%'.format(100*two_stage_38_64_avg_accuracy, 100*two_stage_38_64_boosting_accuracy))\n"
   ]
  },
  {
   "cell_type": "markdown",
   "metadata": {},
   "source": [
    "#### Test accuracy\n",
    "From the validation accuracy above, I chose the modified LeNet-5 model as the final model for testing"
   ]
  },
  {
   "cell_type": "code",
   "execution_count": 62,
   "metadata": {},
   "outputs": [
    {
     "name": "stdout",
     "output_type": "stream",
     "text": [
      "INFO:tensorflow:Restoring parameters from ../model/one_stage_38_64Y0.ckpt\n"
     ]
    },
    {
     "name": "stderr",
     "output_type": "stream",
     "text": [
      "INFO:tensorflow:Restoring parameters from ../model/one_stage_38_64Y0.ckpt\n"
     ]
    },
    {
     "name": "stdout",
     "output_type": "stream",
     "text": [
      "INFO:tensorflow:Restoring parameters from ../model/one_stage_38_64Y1.ckpt\n"
     ]
    },
    {
     "name": "stderr",
     "output_type": "stream",
     "text": [
      "INFO:tensorflow:Restoring parameters from ../model/one_stage_38_64Y1.ckpt\n"
     ]
    },
    {
     "name": "stdout",
     "output_type": "stream",
     "text": [
      "INFO:tensorflow:Restoring parameters from ../model/one_stage_38_64Y2.ckpt\n"
     ]
    },
    {
     "name": "stderr",
     "output_type": "stream",
     "text": [
      "INFO:tensorflow:Restoring parameters from ../model/one_stage_38_64Y2.ckpt\n"
     ]
    },
    {
     "name": "stdout",
     "output_type": "stream",
     "text": [
      "INFO:tensorflow:Restoring parameters from ../model/one_stage_38_64Y3.ckpt\n"
     ]
    },
    {
     "name": "stderr",
     "output_type": "stream",
     "text": [
      "INFO:tensorflow:Restoring parameters from ../model/one_stage_38_64Y3.ckpt\n"
     ]
    },
    {
     "name": "stdout",
     "output_type": "stream",
     "text": [
      "INFO:tensorflow:Restoring parameters from ../model/one_stage_38_64Y4.ckpt\n"
     ]
    },
    {
     "name": "stderr",
     "output_type": "stream",
     "text": [
      "INFO:tensorflow:Restoring parameters from ../model/one_stage_38_64Y4.ckpt\n"
     ]
    },
    {
     "name": "stdout",
     "output_type": "stream",
     "text": [
      "- Testing accuracy of final model: 96.5%\n"
     ]
    }
   ],
   "source": [
    "one_stage_38_64_avg_accuracy, one_stage_38_64_boosting_accuracy = boosting_evaluate('one_stage_38_64Y', logits_one_stage_38_64, X_test_norm_Y, y_test)\n",
    "print('- Testing accuracy of final model: {:.1f}%'.format(100*one_stage_38_64_boosting_accuracy))\n"
   ]
  },
  {
   "cell_type": "markdown",
   "metadata": {},
   "source": [
    "---\n",
    "\n",
    "## Step 3: Test a Model on New Images\n",
    "\n",
    "To give yourself more insight into how your model is working, download at least five pictures of German traffic signs from the web and use your model to predict the traffic sign type.\n",
    "\n",
    "You may find `signnames.csv` useful as it contains mappings from the class id (integer) to the actual sign name."
   ]
  },
  {
   "cell_type": "markdown",
   "metadata": {},
   "source": [
    "### Load and Output the Images"
   ]
  },
  {
   "cell_type": "code",
   "execution_count": 63,
   "metadata": {},
   "outputs": [
    {
     "data": {
      "image/png": "[encoded data removed]",
      "text/plain": [
       "<matplotlib.figure.Figure at 0x7f83726c9710>"
      ]
     },
     "metadata": {
      "needs_background": "light"
     },
     "output_type": "display_data"
    }
   ],
   "source": [
    "import glob\n",
    "\n",
    "new_test_imgs_dir = 'new_test_images'\n",
    "new_test_imgs = glob.glob(os.path.join(new_test_imgs_dir, 'test*.png'))\n",
    "new_test_imgs = [cv2.cvtColor(cv2.imread(f), cv2.COLOR_BGR2RGB) for f in new_test_imgs]\n",
    "new_test_imgs = [cv2.resize(f, (32,32)) for f in new_test_imgs]\n",
    "\n",
    "new_imgs_labels = [33, 1, 14, 38, 23]\n",
    "column = len(new_test_imgs)\n",
    "fig, axs = plt.subplots(1, column)\n",
    "for i in range(column):\n",
    "    axs[i%column].imshow(new_test_imgs[i])\n",
    "    axs[i%column].set_title(i + 1)\n",
    "    axs[i%column].axis('off')\n",
    "plt.savefig('../images/new_test_images.png')"
   ]
  },
  {
   "cell_type": "markdown",
   "metadata": {},
   "source": [
    "### Predict the Sign Type for Each Image"
   ]
  },
  {
   "cell_type": "code",
   "execution_count": 65,
   "metadata": {},
   "outputs": [
    {
     "name": "stdout",
     "output_type": "stream",
     "text": [
      "INFO:tensorflow:Restoring parameters from ../model/one_stage_38_64Y0.ckpt\n"
     ]
    },
    {
     "name": "stderr",
     "output_type": "stream",
     "text": [
      "INFO:tensorflow:Restoring parameters from ../model/one_stage_38_64Y0.ckpt\n"
     ]
    },
    {
     "name": "stdout",
     "output_type": "stream",
     "text": [
      "INFO:tensorflow:Restoring parameters from ../model/one_stage_38_64Y1.ckpt\n"
     ]
    },
    {
     "name": "stderr",
     "output_type": "stream",
     "text": [
      "INFO:tensorflow:Restoring parameters from ../model/one_stage_38_64Y1.ckpt\n"
     ]
    },
    {
     "name": "stdout",
     "output_type": "stream",
     "text": [
      "INFO:tensorflow:Restoring parameters from ../model/one_stage_38_64Y2.ckpt\n"
     ]
    },
    {
     "name": "stderr",
     "output_type": "stream",
     "text": [
      "INFO:tensorflow:Restoring parameters from ../model/one_stage_38_64Y2.ckpt\n"
     ]
    },
    {
     "name": "stdout",
     "output_type": "stream",
     "text": [
      "INFO:tensorflow:Restoring parameters from ../model/one_stage_38_64Y3.ckpt\n"
     ]
    },
    {
     "name": "stderr",
     "output_type": "stream",
     "text": [
      "INFO:tensorflow:Restoring parameters from ../model/one_stage_38_64Y3.ckpt\n"
     ]
    },
    {
     "name": "stdout",
     "output_type": "stream",
     "text": [
      "INFO:tensorflow:Restoring parameters from ../model/one_stage_38_64Y4.ckpt\n"
     ]
    },
    {
     "name": "stderr",
     "output_type": "stream",
     "text": [
      "INFO:tensorflow:Restoring parameters from ../model/one_stage_38_64Y4.ckpt\n"
     ]
    },
    {
     "name": "stdout",
     "output_type": "stream",
     "text": [
      "Predicted label: [ 2  1 14 38  5]\n",
      "True label: [33, 1, 14, 38, 23]\n",
      "Accuracy: 60.0%\n"
     ]
    }
   ],
   "source": [
    "new_test_images_norm = img_normalization(new_test_imgs)\n",
    "new_test_images_norm = preprocess_image_YUV(new_test_images_norm)\n",
    "num_models = 5\n",
    "one_stage_38_64_avg_accuracy, one_stage_38_64_boosting_accuracy = boosting_evaluate('one_stage_38_64Y', \n",
    "                                                                                    logits_one_stage_38_64, \n",
    "                                                                                    new_test_images_norm, \n",
    "                                                                                    new_imgs_labels,\n",
    "                                                                                    show_prediction=True,\n",
    "                                                                                    show_top_k=False)\n",
    "print('Accuracy: {:.1f}%'.format(100*one_stage_38_64_boosting_accuracy))"
   ]
  },
  {
   "cell_type": "markdown",
   "metadata": {},
   "source": [
    "### Output Top 5 Softmax Probabilities For Each Image Found on the Web"
   ]
  },
  {
   "cell_type": "markdown",
   "metadata": {},
   "source": [
    "For each of the new images, print out the model's softmax probabilities to show the **certainty** of the model's predictions (limit the output to the top 5 probabilities for each image). [`tf.nn.top_k`](https://www.tensorflow.org/versions/r0.12/api_docs/python/nn.html#top_k) could prove helpful here. "
   ]
  },
  {
   "cell_type": "code",
   "execution_count": 66,
   "metadata": {},
   "outputs": [
    {
     "name": "stdout",
     "output_type": "stream",
     "text": [
      "INFO:tensorflow:Restoring parameters from ../model/one_stage_38_64Y0.ckpt\n"
     ]
    },
    {
     "name": "stderr",
     "output_type": "stream",
     "text": [
      "INFO:tensorflow:Restoring parameters from ../model/one_stage_38_64Y0.ckpt\n"
     ]
    },
    {
     "name": "stdout",
     "output_type": "stream",
     "text": [
      "INFO:tensorflow:Restoring parameters from ../model/one_stage_38_64Y1.ckpt\n"
     ]
    },
    {
     "name": "stderr",
     "output_type": "stream",
     "text": [
      "INFO:tensorflow:Restoring parameters from ../model/one_stage_38_64Y1.ckpt\n"
     ]
    },
    {
     "name": "stdout",
     "output_type": "stream",
     "text": [
      "INFO:tensorflow:Restoring parameters from ../model/one_stage_38_64Y2.ckpt\n"
     ]
    },
    {
     "name": "stderr",
     "output_type": "stream",
     "text": [
      "INFO:tensorflow:Restoring parameters from ../model/one_stage_38_64Y2.ckpt\n"
     ]
    },
    {
     "name": "stdout",
     "output_type": "stream",
     "text": [
      "INFO:tensorflow:Restoring parameters from ../model/one_stage_38_64Y3.ckpt\n"
     ]
    },
    {
     "name": "stderr",
     "output_type": "stream",
     "text": [
      "INFO:tensorflow:Restoring parameters from ../model/one_stage_38_64Y3.ckpt\n"
     ]
    },
    {
     "name": "stdout",
     "output_type": "stream",
     "text": [
      "INFO:tensorflow:Restoring parameters from ../model/one_stage_38_64Y4.ckpt\n"
     ]
    },
    {
     "name": "stderr",
     "output_type": "stream",
     "text": [
      "INFO:tensorflow:Restoring parameters from ../model/one_stage_38_64Y4.ckpt\n"
     ]
    },
    {
     "name": "stdout",
     "output_type": "stream",
     "text": [
      "Top 5 prediction for image1 is: (True label is 33)\n",
      "- Prediction = 2 has the probability of 12.1%\n",
      "- Prediction = 28 has the probability of 8.9%\n",
      "- Prediction = 5 has the probability of 8.0%\n",
      "- Prediction = 30 has the probability of 6.1%\n",
      "- Prediction = 11 has the probability of 5.7%\n",
      "Top 5 prediction for image2 is: (True label is 1)\n",
      "- Prediction = 1 has the probability of 38.1%\n",
      "- Prediction = 0 has the probability of 22.0%\n",
      "- Prediction = 5 has the probability of 14.9%\n",
      "- Prediction = 4 has the probability of 6.8%\n",
      "- Prediction = 8 has the probability of 5.7%\n",
      "Top 5 prediction for image3 is: (True label is 14)\n",
      "- Prediction = 14 has the probability of 40.7%\n",
      "- Prediction = 8 has the probability of 10.1%\n",
      "- Prediction = 5 has the probability of 4.1%\n",
      "- Prediction = 3 has the probability of 3.4%\n",
      "- Prediction = 15 has the probability of 2.9%\n",
      "Top 5 prediction for image4 is: (True label is 38)\n",
      "- Prediction = 38 has the probability of 99.8%\n",
      "- Prediction = 34 has the probability of 0.1%\n",
      "- Prediction = 15 has the probability of 0.0%\n",
      "- Prediction = 20 has the probability of 0.0%\n",
      "- Prediction = 10 has the probability of 0.0%\n",
      "Top 5 prediction for image5 is: (True label is 23)\n",
      "- Prediction = 5 has the probability of 8.1%\n",
      "- Prediction = 8 has the probability of 7.0%\n",
      "- Prediction = 26 has the probability of 5.6%\n",
      "- Prediction = 2 has the probability of 4.9%\n",
      "- Prediction = 28 has the probability of 4.9%\n"
     ]
    }
   ],
   "source": [
    "one_stage_38_64_avg_accuracy, one_stage_38_64_boosting_accuracy = boosting_evaluate('one_stage_38_64Y', \n",
    "                                                                                    logits_one_stage_38_64, \n",
    "                                                                                    new_test_images_norm, \n",
    "                                                                                    new_imgs_labels,\n",
    "                                                                                    show_prediction=False,\n",
    "                                                                                    show_top_k=True)"
   ]
  }
 ],
 "metadata": {
  "anaconda-cloud": {},
  "kernelspec": {
   "display_name": "Python 3",
   "language": "python",
   "name": "python3"
  },
  "language_info": {
   "codemirror_mode": {
    "name": "ipython",
    "version": 3
   },
   "file_extension": ".py",
   "mimetype": "text/x-python",
   "name": "python",
   "nbconvert_exporter": "python",
   "pygments_lexer": "ipython3",
   "version": "3.6.3"
  }
 },
 "nbformat": 4,
 "nbformat_minor": 1
}
